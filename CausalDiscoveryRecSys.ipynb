{
  "nbformat": 4,
  "nbformat_minor": 0,
  "metadata": {
    "colab": {
      "name": "CausalDiscoveryRecSys.ipynb",
      "provenance": [],
      "collapsed_sections": [],
      "toc_visible": true,
      "authorship_tag": "ABX9TyMyR/d3TfL4cLK64DhHSthO",
      "include_colab_link": true
    },
    "kernelspec": {
      "name": "python3",
      "display_name": "Python 3"
    },
    "language_info": {
      "name": "python"
    }
  },
  "cells": [
    {
      "cell_type": "markdown",
      "metadata": {
        "id": "view-in-github",
        "colab_type": "text"
      },
      "source": [
        "<a href=\"https://colab.research.google.com/github/GianvitoC/Causal_Fairness/blob/main/CausalDiscoveryRecSys.ipynb\" target=\"_parent\"><img src=\"https://colab.research.google.com/assets/colab-badge.svg\" alt=\"Open In Colab\"/></a>"
      ]
    },
    {
      "cell_type": "code",
      "execution_count": 2,
      "metadata": {
        "colab": {
          "base_uri": "https://localhost:8080/"
        },
        "id": "pa72UPBS6d5b",
        "outputId": "5a62af05-27b7-4ee7-deaf-7c2b38492453"
      },
      "outputs": [
        {
          "output_type": "stream",
          "name": "stdout",
          "text": [
            "Collecting dowhy\n",
            "  Downloading dowhy-0.7.1-py3-none-any.whl (164 kB)\n",
            "\u001b[?25l\r\u001b[K     |██                              | 10 kB 17.8 MB/s eta 0:00:01\r\u001b[K     |████                            | 20 kB 11.1 MB/s eta 0:00:01\r\u001b[K     |██████                          | 30 kB 9.0 MB/s eta 0:00:01\r\u001b[K     |████████                        | 40 kB 7.9 MB/s eta 0:00:01\r\u001b[K     |██████████                      | 51 kB 4.2 MB/s eta 0:00:01\r\u001b[K     |████████████                    | 61 kB 4.9 MB/s eta 0:00:01\r\u001b[K     |██████████████                  | 71 kB 5.3 MB/s eta 0:00:01\r\u001b[K     |████████████████                | 81 kB 5.6 MB/s eta 0:00:01\r\u001b[K     |██████████████████              | 92 kB 6.2 MB/s eta 0:00:01\r\u001b[K     |███████████████████▉            | 102 kB 4.9 MB/s eta 0:00:01\r\u001b[K     |█████████████████████▉          | 112 kB 4.9 MB/s eta 0:00:01\r\u001b[K     |███████████████████████▉        | 122 kB 4.9 MB/s eta 0:00:01\r\u001b[K     |█████████████████████████▉      | 133 kB 4.9 MB/s eta 0:00:01\r\u001b[K     |███████████████████████████▉    | 143 kB 4.9 MB/s eta 0:00:01\r\u001b[K     |█████████████████████████████▉  | 153 kB 4.9 MB/s eta 0:00:01\r\u001b[K     |███████████████████████████████▉| 163 kB 4.9 MB/s eta 0:00:01\r\u001b[K     |████████████████████████████████| 164 kB 4.9 MB/s \n",
            "\u001b[?25hRequirement already satisfied: scikit-learn in /usr/local/lib/python3.7/dist-packages (from dowhy) (1.0.2)\n",
            "Requirement already satisfied: sympy>=1.4 in /usr/local/lib/python3.7/dist-packages (from dowhy) (1.7.1)\n",
            "Requirement already satisfied: statsmodels in /usr/local/lib/python3.7/dist-packages (from dowhy) (0.10.2)\n",
            "Requirement already satisfied: pandas>=0.24 in /usr/local/lib/python3.7/dist-packages (from dowhy) (1.3.5)\n",
            "Requirement already satisfied: networkx>=2.0 in /usr/local/lib/python3.7/dist-packages (from dowhy) (2.6.3)\n",
            "Requirement already satisfied: numpy>=1.15 in /usr/local/lib/python3.7/dist-packages (from dowhy) (1.21.6)\n",
            "Collecting pydot>=1.4\n",
            "  Downloading pydot-1.4.2-py2.py3-none-any.whl (21 kB)\n",
            "Requirement already satisfied: scipy in /usr/local/lib/python3.7/dist-packages (from dowhy) (1.4.1)\n",
            "Requirement already satisfied: pytz>=2017.3 in /usr/local/lib/python3.7/dist-packages (from pandas>=0.24->dowhy) (2022.1)\n",
            "Requirement already satisfied: python-dateutil>=2.7.3 in /usr/local/lib/python3.7/dist-packages (from pandas>=0.24->dowhy) (2.8.2)\n",
            "Requirement already satisfied: pyparsing>=2.1.4 in /usr/local/lib/python3.7/dist-packages (from pydot>=1.4->dowhy) (3.0.9)\n",
            "Requirement already satisfied: six>=1.5 in /usr/local/lib/python3.7/dist-packages (from python-dateutil>=2.7.3->pandas>=0.24->dowhy) (1.15.0)\n",
            "Requirement already satisfied: mpmath>=0.19 in /usr/local/lib/python3.7/dist-packages (from sympy>=1.4->dowhy) (1.2.1)\n",
            "Requirement already satisfied: joblib>=0.11 in /usr/local/lib/python3.7/dist-packages (from scikit-learn->dowhy) (1.1.0)\n",
            "Requirement already satisfied: threadpoolctl>=2.0.0 in /usr/local/lib/python3.7/dist-packages (from scikit-learn->dowhy) (3.1.0)\n",
            "Requirement already satisfied: patsy>=0.4.0 in /usr/local/lib/python3.7/dist-packages (from statsmodels->dowhy) (0.5.2)\n",
            "Installing collected packages: pydot, dowhy\n",
            "  Attempting uninstall: pydot\n",
            "    Found existing installation: pydot 1.3.0\n",
            "    Uninstalling pydot-1.3.0:\n",
            "      Successfully uninstalled pydot-1.3.0\n",
            "Successfully installed dowhy-0.7.1 pydot-1.4.2\n"
          ]
        }
      ],
      "source": [
        "!pip install dowhy\n"
      ]
    },
    {
      "cell_type": "code",
      "source": [
        "!pip install lingam"
      ],
      "metadata": {
        "colab": {
          "base_uri": "https://localhost:8080/"
        },
        "id": "mIpwgWv19FC0",
        "outputId": "ed8c5d79-863b-433a-8812-cea0991350a0"
      },
      "execution_count": 3,
      "outputs": [
        {
          "output_type": "stream",
          "name": "stdout",
          "text": [
            "Collecting lingam\n",
            "  Downloading lingam-1.5.5-py3-none-any.whl (67 kB)\n",
            "\u001b[?25l\r\u001b[K     |████▉                           | 10 kB 25.6 MB/s eta 0:00:01\r\u001b[K     |█████████▊                      | 20 kB 15.0 MB/s eta 0:00:01\r\u001b[K     |██████████████▋                 | 30 kB 10.4 MB/s eta 0:00:01\r\u001b[K     |███████████████████▌            | 40 kB 9.0 MB/s eta 0:00:01\r\u001b[K     |████████████████████████▍       | 51 kB 4.8 MB/s eta 0:00:01\r\u001b[K     |█████████████████████████████▎  | 61 kB 5.6 MB/s eta 0:00:01\r\u001b[K     |████████████████████████████████| 67 kB 2.9 MB/s \n",
            "\u001b[?25hRequirement already satisfied: graphviz in /usr/local/lib/python3.7/dist-packages (from lingam) (0.10.1)\n",
            "Requirement already satisfied: scikit-learn in /usr/local/lib/python3.7/dist-packages (from lingam) (1.0.2)\n",
            "Requirement already satisfied: statsmodels in /usr/local/lib/python3.7/dist-packages (from lingam) (0.10.2)\n",
            "Requirement already satisfied: scipy in /usr/local/lib/python3.7/dist-packages (from lingam) (1.4.1)\n",
            "Requirement already satisfied: numpy in /usr/local/lib/python3.7/dist-packages (from lingam) (1.21.6)\n",
            "Requirement already satisfied: threadpoolctl>=2.0.0 in /usr/local/lib/python3.7/dist-packages (from scikit-learn->lingam) (3.1.0)\n",
            "Requirement already satisfied: joblib>=0.11 in /usr/local/lib/python3.7/dist-packages (from scikit-learn->lingam) (1.1.0)\n",
            "Requirement already satisfied: pandas>=0.19 in /usr/local/lib/python3.7/dist-packages (from statsmodels->lingam) (1.3.5)\n",
            "Requirement already satisfied: patsy>=0.4.0 in /usr/local/lib/python3.7/dist-packages (from statsmodels->lingam) (0.5.2)\n",
            "Requirement already satisfied: pytz>=2017.3 in /usr/local/lib/python3.7/dist-packages (from pandas>=0.19->statsmodels->lingam) (2022.1)\n",
            "Requirement already satisfied: python-dateutil>=2.7.3 in /usr/local/lib/python3.7/dist-packages (from pandas>=0.19->statsmodels->lingam) (2.8.2)\n",
            "Requirement already satisfied: six in /usr/local/lib/python3.7/dist-packages (from patsy>=0.4.0->statsmodels->lingam) (1.15.0)\n",
            "Installing collected packages: lingam\n",
            "Successfully installed lingam-1.5.5\n"
          ]
        }
      ]
    }
  ]
}